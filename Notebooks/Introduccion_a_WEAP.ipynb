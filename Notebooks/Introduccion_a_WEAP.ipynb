{
  "nbformat": 4,
  "nbformat_minor": 0,
  "metadata": {
    "colab": {
      "provenance": [],
      "authorship_tag": "ABX9TyPrrVWo/8ujZPr+ONXMDvYU",
      "include_colab_link": true
    },
    "kernelspec": {
      "name": "python3",
      "display_name": "Python 3"
    },
    "language_info": {
      "name": "python"
    }
  },
  "cells": [
    {
      "cell_type": "markdown",
      "metadata": {
        "id": "view-in-github",
        "colab_type": "text"
      },
      "source": [
        "<a href=\"https://colab.research.google.com/github/cafigueroao/peru-web-training-2024/blob/main/Introduccion_a_WEAP.ipynb\" target=\"_parent\"><img src=\"https://colab.research.google.com/assets/colab-badge.svg\" alt=\"Open In Colab\"/></a>"
      ]
    },
    {
      "cell_type": "markdown",
      "source": [
        "# Introduccion a WEAP"
      ],
      "metadata": {
        "id": "jNHZU5r-UIfp"
      }
    },
    {
      "cell_type": "markdown",
      "source": [
        "WEAP como plataforma de evaluación hídrica permite visualizar los diferentes aspectos del área de manejo analizado de forma holística e integrada a nivel de las diferentes temáticas que sean necesarias considerar, como es el caso de la disponibilidad hídrica de cuenca, la distribución y requerimiento de agua por parte de los usuarios, los impactos ambientales en temas de calidad del agua así como modificaciones en el régimen hidrológico de los ríos entre otros (ver figura siguiente)\n",
        "\n",
        "<img src=\"https://drive.google.com/uc?export=view&id=1UhgPCQdzjXJp8Xu20lZAaS69etfxHxxt\" alt=\"Drawing\"  width=\"1000\" style=\"width: 100px;\"/>\n"
      ],
      "metadata": {
        "id": "sBp7u9QfUQrY"
      }
    },
    {
      "cell_type": "markdown",
      "source": [
        "Elaborado en base a Loucks D., & Van Beek E. (2017), articulo completo [aqui](https://doi.org/10.1007/978-3-319-44234-1).\n"
      ],
      "metadata": {
        "id": "VtwMK0poV4sI"
      }
    },
    {
      "cell_type": "markdown",
      "source": [
        "# Motivacion para el entrenamiento en WEAP"
      ],
      "metadata": {
        "id": "J5yvd3n1WGCp"
      }
    },
    {
      "cell_type": "markdown",
      "source": [
        "WEAP es un modelo de planificacion hidrica, puede ser utilizado para modelacion hidrologica, sin embargo tiene funcionalidades mas alla de la modelacion hidrologica.\n",
        "\n",
        "<img src=\"https://drive.google.com/uc?export=view&id=1WSpFbqE0gNviZBInmp2tiBAoWlxI2tOs\" alt=\"Drawing\"  width=\"1200\" style=\"width: 100px;\"/>\n",
        "\n",
        "El presente entrenamiento es parte de una asistencia a la Secretaria Tecnica del Consejo de Recursos Hidricos en Tumbes para el manejo, configuracion y operacion de un modelo WEAP desarrollado para las cuencas de la region"
      ],
      "metadata": {
        "id": "QsEdZeQcWn0n"
      }
    },
    {
      "cell_type": "markdown",
      "source": [
        "# Foro y usuario de WEAP"
      ],
      "metadata": {
        "id": "TCYqRckADgEh"
      }
    },
    {
      "cell_type": "markdown",
      "source": [
        "**WEAP** cuenta con una pagina de manejo de actualizacion, publicacion de material relativo a la plataforma asi como administracion de **Licencias**. Por eso es muy importante al inicio del manejo de la plataforma crear una cuenta en la pagina de WEAP. A continuacion se muestra el link de acceso a la misma:"
      ],
      "metadata": {
        "id": "fFzXEbn_DpVB"
      }
    },
    {
      "cell_type": "code",
      "source": [
        "from IPython.core.display import display, HTML\n",
        "# Define the HTML content with a resizable iframe\n",
        "html_content = \"\"\"<!DOCTYPE html><html><head><style>.resizable {resize: vertical;overflow: auto;width: 100%;border: 1px solid black;}</style></head><body><div class=\"resizable\" style=\"height: 400px;\"><iframe src=\"https://www.weap21.org/index.asp\" width=\"100%\" height=\"100%\" frameborder=\"0\"></iframe></div></body></html>\"\"\"\n",
        "# Display the HTML content in the notebook\n",
        "display(HTML(html_content))"
      ],
      "metadata": {
        "colab": {
          "base_uri": "https://localhost:8080/",
          "height": 211
        },
        "id": "58CbETA9Jmzk",
        "outputId": "7c52eec1-4301-432a-caf2-753eeb267230"
      },
      "execution_count": null,
      "outputs": [
        {
          "output_type": "display_data",
          "data": {
            "text/plain": [
              "<IPython.core.display.HTML object>"
            ],
            "text/html": [
              "<!DOCTYPE html><html><head><style>.resizable {resize: vertical;overflow: auto;width: 100%;border: 1px solid black;}</style></head><body><div class=\"resizable\" style=\"height: 400px;\"><iframe src=\"https://www.weap21.org/index.asp\" width=\"100%\" height=\"100%\" frameborder=\"0\"></iframe></div></body></html>"
            ]
          },
          "metadata": {}
        }
      ]
    },
    {
      "cell_type": "markdown",
      "source": [
        "El registro de WEAP es sencillo requiere de contar con un correo electronico y un poco de informacion relacionada con su profesión, afiliación laboral, y en especial su correo electronico. **Importante, para usar WEAP de forma abierta, requiere de un correo electronico institucional que demuestre que es parte de una entidad gubernamental como es el caso de ANA.**\n",
        "\n",
        "<img src=\"https://drive.google.com/uc?export=view&id=1TkGHNT2dOr3Zx6Dz8YVshmFFflCWWRTZ\" alt=\"Drawing\"  width=\"1000\" style=\"width: 100px;\"/>\n",
        "\n",
        "En el siguiente enlace puede realizar el llenado de su datos para la creación de una cuenta:"
      ],
      "metadata": {
        "id": "S71x8rI9FTzf"
      }
    },
    {
      "cell_type": "code",
      "source": [
        "from IPython.core.display import display, HTML\n",
        "# Define the HTML content with a resizable iframe\n",
        "html_content = \"\"\"<!DOCTYPE html><html><head><style>.resizable {resize: vertical;overflow: auto;width: 100%;border: 1px solid black;}</style></head><body><div class=\"resizable\" style=\"height: 400px;\"><iframe src=\"https://www.weap21.org/index.asp?action=8\" width=\"100%\" height=\"100%\" frameborder=\"0\"></iframe></div></body></html>\"\"\"\n",
        "# Display the HTML content in the notebook\n",
        "display(HTML(html_content))"
      ],
      "metadata": {
        "colab": {
          "base_uri": "https://localhost:8080/",
          "height": 439
        },
        "id": "0FQWtl2dGjvP",
        "outputId": "54778d60-a1ca-41ef-9050-c12e42c2272d"
      },
      "execution_count": null,
      "outputs": [
        {
          "output_type": "display_data",
          "data": {
            "text/plain": [
              "<IPython.core.display.HTML object>"
            ],
            "text/html": [
              "<!DOCTYPE html><html><head><style>.resizable {resize: vertical;overflow: auto;width: 100%;border: 1px solid black;}</style></head><body><div class=\"resizable\" style=\"height: 400px;\"><iframe src=\"https://www.weap21.org/index.asp?action=8\" width=\"100%\" height=\"100%\" frameborder=\"0\"></iframe></div></body></html>"
            ]
          },
          "metadata": {}
        }
      ]
    },
    {
      "cell_type": "markdown",
      "source": [
        "Una vez se concluya con el registro en la pagina del foro de WEAP, un correo le sera enviado con los datos para el ingreso como **usuario del foro de WEAP**\n",
        "\n",
        "<img src=\"https://drive.google.com/uc?export=view&id=1VFu0Vi_iWVpM5rENcPwVl-1q0nkal7Ll\" alt=\"Drawing\"  width=\"1000\" style=\"width: 100px;\"/>"
      ],
      "metadata": {
        "id": "m_HAMY1MSyvx"
      }
    },
    {
      "cell_type": "markdown",
      "source": [
        "# Licencia para WEAP del presente entrenamiento"
      ],
      "metadata": {
        "id": "nkXMHtecU-99"
      }
    },
    {
      "cell_type": "markdown",
      "source": [
        "**User Name:** SEI WEAP Training, Autoridad Nacional del Agua, Peru\n",
        "\n",
        "**Registration Code:** 977-789-942-295-065\n",
        "\n",
        "**License Expires:** July 27, 2024"
      ],
      "metadata": {
        "id": "vau3r6N5VVol"
      }
    },
    {
      "cell_type": "markdown",
      "source": [
        "# Componentes de WEAP"
      ],
      "metadata": {
        "id": "yT3sJSmXVtqm"
      }
    },
    {
      "cell_type": "markdown",
      "source": [
        "WEAP es una aplicación Desktop [de escritorio, funcional solo en Microsoft Windows] que se instala al descargar un **Setup** de la pagina en el foro de WEAP:\n",
        "\n",
        "<img src=\"https://drive.google.com/uc?export=view&id=1qDFOGytKx-CdSpW4izHaCW2nA1vdvLkP\" alt=\"Drawing\"  width=\"900\" style=\"width: 100px;\"/>\n",
        "\n",
        "La descarga se puede realizar en el siguiente enlace:\n"
      ],
      "metadata": {
        "id": "ogFXOHWvXbhD"
      }
    },
    {
      "cell_type": "code",
      "source": [
        "from IPython.core.display import display, HTML\n",
        "# Define the HTML content with a resizable iframe\n",
        "html_content = \"\"\"<!DOCTYPE html><html><head><style>.resizable {resize: vertical;overflow: auto;width: 100%;border: 1px solid black;}</style></head><body><div class=\"resizable\" style=\"height: 200px;\"><iframe src=\"https://www.weap21.org/index.asp?action=40\" width=\"100%\" height=\"100%\" frameborder=\"0\"></iframe></div></body></html>\"\"\"\n",
        "# Display the HTML content in the notebook\n",
        "display(HTML(html_content))"
      ],
      "metadata": {
        "colab": {
          "base_uri": "https://localhost:8080/",
          "height": 235
        },
        "id": "cce2jZLaaYzC",
        "outputId": "72baede1-2a9d-46b6-ab79-f3e901ece9ab"
      },
      "execution_count": null,
      "outputs": [
        {
          "output_type": "display_data",
          "data": {
            "text/plain": [
              "<IPython.core.display.HTML object>"
            ],
            "text/html": [
              "<!DOCTYPE html><html><head><style>.resizable {resize: vertical;overflow: auto;width: 100%;border: 1px solid black;}</style></head><body><div class=\"resizable\" style=\"height: 200px;\"><iframe src=\"https://www.weap21.org/index.asp?action=40\" width=\"100%\" height=\"100%\" frameborder=\"0\"></iframe></div></body></html>"
            ]
          },
          "metadata": {}
        }
      ]
    },
    {
      "cell_type": "markdown",
      "source": [
        "Una vez descargado el instalador de WEAP, se debe abrir en modo **Ejecutar como Adminsitrador**, para seguir una secuencia de pasos convencionales por **default** como recomendación. Esto debido a que el programa ha sido configurado para trabajar con una carpeta de administración de proyectos, la cual debe estar en la medida de lo posible en la misma unidad de disco que el sistema operativo:\n",
        "\n",
        "\n",
        "<img src=\"https://drive.google.com/uc?export=view&id=17KBwLI3XfAoUdgNoCzQEdnZ4jAQbPq6S\" alt=\"Drawing\"  width=\"1200\" style=\"width: 100px;\"/>"
      ],
      "metadata": {
        "id": "2M1MFnocoO-v"
      }
    },
    {
      "cell_type": "markdown",
      "source": [
        "La Plataforma WEAP se abre en una ventana Windows que cuenta con un menu operativo como se describe a continuación:\n",
        "\n",
        "<img src=\"https://drive.google.com/uc?export=view&id=1TIYr3lg8gCoBFWGkMpB-dRCAL3EJVT8i\" alt=\"Drawing\"  width=\"1000\" style=\"width: 100px;\"/>"
      ],
      "metadata": {
        "id": "fS5_IPy-snf9"
      }
    },
    {
      "cell_type": "markdown",
      "source": [
        "Cada uno de los Menus de WEAP ayuda a configurar un componente para el desarrollo de un modelo, la configuracion de sus datos, metodos a utilizar, interoperabilidad entre otros. En el siguiente esquema presentamos la exploración del Menu \"Create Area...\" que es el paso inicial para el trabajo de un **modelo hidrico** en WEAP:\n",
        "<img src=\"https://drive.google.com/uc?export=view&id=1Z8TAzaDuGzX-Vpx_tbAULXnUwzogXWRS\" alt=\"Drawing\"  width=\"1000\" style=\"width: 100px;\"/>"
      ],
      "metadata": {
        "id": "YjjC15OLx0WY"
      }
    },
    {
      "cell_type": "markdown",
      "source": [
        "<img src=\"https://drive.google.com/uc?export=view&id=1nS5Go_yPHx0no6esh0RsQROKS99UtTZ2\" alt=\"Drawing\"  width=\"1000\" style=\"width: 100px;\"/>"
      ],
      "metadata": {
        "id": "fWd3RDZNzj_W"
      }
    },
    {
      "cell_type": "markdown",
      "source": [
        "En el siguiente link, puede acceder a un video de los pasos previamente descritos en mayor detalle:"
      ],
      "metadata": {
        "id": "e22hnSUc004P"
      }
    },
    {
      "cell_type": "code",
      "source": [
        "from IPython.core.display import display, HTML\n",
        "# Define the HTML content with a resizable iframe and a direct link as fallback\n",
        "html_content = \"\"\"<!DOCTYPE html><html><head><style>.resizable {resize: vertical;overflow: auto;width: 100%;border: 1px solid black;}</style></head><body><div class=\"resizable\" style=\"height: 600px;\">\n",
        "<iframe src=\"https://www.youtube.com/embed/Jum-hRik9Cc?list=PLoJ3pxCzMP1t1tAu-FEiFtw_JbEBwe6to&index=1\" width=\"100%\" height=\"100%\" frameborder=\"0\" allowfullscreen></iframe>\n",
        "</div><p>If the video does not load, <a href=\"https://www.youtube.com/watch?v=Jum-hRik9Cc&list=PLoJ3pxCzMP1t1tAu-FEiFtw_JbEBwe6to&index=1\" target=\"_blank\">click here to watch it on YouTube</a>.</p>\n",
        "</body></html>\"\"\"\n",
        "# Display the HTML content in the notebook\n",
        "display(HTML(html_content))"
      ],
      "metadata": {
        "colab": {
          "base_uri": "https://localhost:8080/",
          "height": 668
        },
        "id": "8JHxgGKqpJdJ",
        "outputId": "281477b5-b559-4b54-b98e-fb35ab748356"
      },
      "execution_count": 4,
      "outputs": [
        {
          "output_type": "display_data",
          "data": {
            "text/plain": [
              "<IPython.core.display.HTML object>"
            ],
            "text/html": [
              "<!DOCTYPE html><html><head><style>.resizable {resize: vertical;overflow: auto;width: 100%;border: 1px solid black;}</style></head><body><div class=\"resizable\" style=\"height: 600px;\">\n",
              "<iframe src=\"https://www.youtube.com/embed/Jum-hRik9Cc?list=PLoJ3pxCzMP1t1tAu-FEiFtw_JbEBwe6to&index=1\" width=\"100%\" height=\"100%\" frameborder=\"0\" allowfullscreen></iframe>\n",
              "</div><p>If the video does not load, <a href=\"https://www.youtube.com/watch?v=Jum-hRik9Cc&list=PLoJ3pxCzMP1t1tAu-FEiFtw_JbEBwe6to&index=1\" target=\"_blank\">click here to watch it on YouTube</a>.</p>\n",
              "</body></html>"
            ]
          },
          "metadata": {}
        }
      ]
    }
  ]
}